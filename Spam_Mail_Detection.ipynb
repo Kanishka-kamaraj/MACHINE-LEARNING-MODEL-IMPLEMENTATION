# 1. Import Libraries
import pandas as pd
import matplotlib.pyplot as plt
import seaborn as sns
from sklearn.model_selection import train_test_split
from sklearn.feature_extraction.text import CountVectorizer
from sklearn.naive_bayes import MultinomialNB
from sklearn.metrics import accuracy_score, classification_report, confusion_matrix
# 2. Load the Dataset
# Manually download from https://raw.githubusercontent.com/justmarkham/pycon-2016-tutorial/master/data/sms.tsv
df = pd.read_csv("sms.tsv", sep="\t", header=None, names=["label", "message"])
df.head()
# 3. Preprocessing
df['label_num'] = df.label.map({'ham': 0, 'spam': 1})
df.head()
# 4. Split the Data
X = df['message']
y = df['label_num']
X_train, X_test, y_train, y_test = train_test_split(X, y, test_size=0.2, random_state=42)
# 5. Feature Extraction (Bag of Words)
vectorizer = CountVectorizer()
X_train_counts = vectorizer.fit_transform(X_train)
X_test_counts = vectorizer.transform(X_test)
# 6. Model Training
model = MultinomialNB()
model.fit(X_train_counts, y_train)
# 7. Predictions
y_pred = model.predict(X_test_counts)
# 8. Evaluation
print("Accuracy:", accuracy_score(y_test, y_pred))
print("\nClassification Report:\n", classification_report(y_test, y_pred))
print("\nConfusion Matrix:\n", confusion_matrix(y_test, y_pred))
# 9. Visualize Confusion Matrix
sns.heatmap(confusion_matrix(y_test, y_pred), annot=True, fmt='d', cmap='Blues')
plt.xlabel('Predicted')
plt.ylabel('Actual')
plt.title('Confusion Matrix')
plt.show()
